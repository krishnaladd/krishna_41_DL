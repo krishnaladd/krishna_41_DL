{
  "nbformat": 4,
  "nbformat_minor": 0,
  "metadata": {
    "colab": {
      "provenance": []
    },
    "kernelspec": {
      "name": "python3",
      "display_name": "Python 3"
    },
    "language_info": {
      "name": "python"
    }
  },
  "cells": [
    {
      "cell_type": "code",
      "execution_count": 1,
      "metadata": {
        "id": "Ye1oK1F1a151"
      },
      "outputs": [],
      "source": [
        "import numpy as np\n",
        "import pandas as pd\n",
        "import tensorflow as tf\n",
        "import matplotlib.pyplot as plt\n",
        "import seaborn as sns"
      ]
    },
    {
      "cell_type": "code",
      "source": [
        "from tensorflow.keras.preprocessing.text import Tokenizer\n",
        "from tensorflow.keras.preprocessing.sequence import pad_sequences\n",
        "from tensorflow.keras.models import Sequential\n",
        "from tensorflow.keras.layers import Embedding, LSTM, Dense, Dropout, GlobalAveragePooling1D\n",
        "from sklearn.metrics import classification_report\n",
        "import os\n",
        "import random\n",
        "import re"
      ],
      "metadata": {
        "id": "cQoYwIiTsLL5"
      },
      "execution_count": 2,
      "outputs": []
    },
    {
      "cell_type": "code",
      "source": [
        "import tarfile\n",
        "import urllib.request"
      ],
      "metadata": {
        "id": "gSjHdUejsTzs"
      },
      "execution_count": 3,
      "outputs": []
    },
    {
      "cell_type": "code",
      "source": [
        "import tarfile\n",
        "import urllib.request"
      ],
      "metadata": {
        "id": "Lp059sfZsbH5"
      },
      "execution_count": 4,
      "outputs": []
    },
    {
      "cell_type": "code",
      "source": [
        "url = \"https://ai.stanford.edu/~amaas/data/sentiment/aclImdb_v1.tar.gz\"\n",
        "filename = \"aclImdb_v1.tar.gz\"\n",
        "if not os.path.exists(\"aclImdb\"):\n",
        "    urllib.request.urlretrieve(url, filename)\n",
        "    with tarfile.open(filename, \"r:gz\") as tar:\n",
        "        tar.extractall()"
      ],
      "metadata": {
        "id": "tWi7FVhOsqGC"
      },
      "execution_count": 5,
      "outputs": []
    },
    {
      "cell_type": "code",
      "source": [
        "def load_imdb_data(directory):\n",
        "    data = []\n",
        "    labels = []\n",
        "    for label_type in ['pos', 'neg']:\n",
        "        folder = os.path.join(directory, label_type)\n",
        "        for fname in os.listdir(folder):\n",
        "            if fname.endswith('.txt'):\n",
        "                with open(os.path.join(folder, fname), encoding=\"utf-8\") as f:\n",
        "                    data.append(f.read())\n",
        "                    labels.append(1 if label_type == 'pos' else 0)\n",
        "    return data, labels\n",
        "\n",
        "train_texts, train_labels = load_imdb_data(\"aclImdb/train\")\n",
        "test_texts, test_labels = load_imdb_data(\"aclImdb/test\")"
      ],
      "metadata": {
        "id": "83f6wMXus-Kg"
      },
      "execution_count": 6,
      "outputs": []
    },
    {
      "cell_type": "code",
      "source": [
        "combined = list(zip(train_texts, train_labels))\n",
        "random.shuffle(combined)\n",
        "train_texts, train_labels = zip(*combined)\n"
      ],
      "metadata": {
        "id": "9QTfJlzOtLd8"
      },
      "execution_count": 7,
      "outputs": []
    },
    {
      "cell_type": "code",
      "source": [
        "tokenizer = Tokenizer(num_words=10000, oov_token=\"<OOV>\")\n",
        "tokenizer.fit_on_texts(train_texts)\n",
        "X_train = tokenizer.texts_to_sequences(train_texts)\n",
        "X_test = tokenizer.texts_to_sequences(test_texts)"
      ],
      "metadata": {
        "id": "npwP4geTt_XJ"
      },
      "execution_count": 13,
      "outputs": []
    },
    {
      "cell_type": "code",
      "source": [
        "max_len = 200\n",
        "X_train = pad_sequences(X_train, maxlen=max_len, padding='post')\n",
        "X_test = pad_sequences(X_test, maxlen=max_len, padding='post')\n",
        "y_train = np.array(train_labels)\n",
        "y_test = np.array(test_labels)"
      ],
      "metadata": {
        "id": "U2rTCkTXtOjB"
      },
      "execution_count": 14,
      "outputs": []
    },
    {
      "cell_type": "code",
      "source": [
        "model_lstm = Sequential([\n",
        "    Embedding(input_dim=10000, output_dim=64, input_length=max_len),\n",
        "    LSTM(64),\n",
        "    Dropout(0.5),\n",
        "    Dense(1, activation='sigmoid')\n",
        "])"
      ],
      "metadata": {
        "id": "I4m1k42Mtz2q"
      },
      "execution_count": 15,
      "outputs": []
    },
    {
      "cell_type": "code",
      "source": [
        "model_lstm.compile(loss='binary_crossentropy', optimizer='adam', metrics=['accuracy'])\n",
        "history_lstm = model_lstm.fit(X_train, y_train, validation_split=0.2, epochs=3, batch_size=128)"
      ],
      "metadata": {
        "colab": {
          "base_uri": "https://localhost:8080/"
        },
        "id": "9ec3NJYauFo2",
        "outputId": "9ffb296e-36ee-4dc1-97a8-2c218b27dd4b"
      },
      "execution_count": 16,
      "outputs": [
        {
          "output_type": "stream",
          "name": "stdout",
          "text": [
            "Epoch 1/3\n",
            "\u001b[1m157/157\u001b[0m \u001b[32m━━━━━━━━━━━━━━━━━━━━\u001b[0m\u001b[37m\u001b[0m \u001b[1m76s\u001b[0m 460ms/step - accuracy: 0.5200 - loss: 0.6914 - val_accuracy: 0.5670 - val_loss: 0.6721\n",
            "Epoch 2/3\n",
            "\u001b[1m157/157\u001b[0m \u001b[32m━━━━━━━━━━━━━━━━━━━━\u001b[0m\u001b[37m\u001b[0m \u001b[1m76s\u001b[0m 429ms/step - accuracy: 0.6214 - loss: 0.6529 - val_accuracy: 0.7568 - val_loss: 0.5366\n",
            "Epoch 3/3\n",
            "\u001b[1m157/157\u001b[0m \u001b[32m━━━━━━━━━━━━━━━━━━━━\u001b[0m\u001b[37m\u001b[0m \u001b[1m77s\u001b[0m 399ms/step - accuracy: 0.6885 - loss: 0.6105 - val_accuracy: 0.5832 - val_loss: 0.6547\n"
          ]
        }
      ]
    },
    {
      "cell_type": "code",
      "source": [
        "loss, accuracy = model_lstm.evaluate(X_test, y_test)\n",
        "print(f\"\\nLSTM Test Accuracy: {accuracy:.4f}\")\n",
        "y_pred = (model_lstm.predict(X_test) > 0.5).astype(int)\n",
        "print(classification_report(y_test, y_pred))\n"
      ],
      "metadata": {
        "colab": {
          "base_uri": "https://localhost:8080/"
        },
        "id": "ZqhdaA2huHvS",
        "outputId": "744c3e68-e209-49fe-8b7b-2e0f6c2f3ba7"
      },
      "execution_count": 17,
      "outputs": [
        {
          "output_type": "stream",
          "name": "stdout",
          "text": [
            "\u001b[1m782/782\u001b[0m \u001b[32m━━━━━━━━━━━━━━━━━━━━\u001b[0m\u001b[37m\u001b[0m \u001b[1m31s\u001b[0m 40ms/step - accuracy: 0.7005 - loss: 0.6619\n",
            "\n",
            "LSTM Test Accuracy: 0.5780\n",
            "\u001b[1m782/782\u001b[0m \u001b[32m━━━━━━━━━━━━━━━━━━━━\u001b[0m\u001b[37m\u001b[0m \u001b[1m27s\u001b[0m 35ms/step\n",
            "              precision    recall  f1-score   support\n",
            "\n",
            "           0       0.62      0.40      0.48     12500\n",
            "           1       0.56      0.76      0.64     12500\n",
            "\n",
            "    accuracy                           0.58     25000\n",
            "   macro avg       0.59      0.58      0.56     25000\n",
            "weighted avg       0.59      0.58      0.56     25000\n",
            "\n"
          ]
        }
      ]
    },
    {
      "cell_type": "code",
      "source": [
        "plt.plot(history_lstm.history['accuracy'], label='Train Acc')\n",
        "plt.plot(history_lstm.history['val_accuracy'], label='Val Acc')\n",
        "plt.title('LSTM Accuracy')\n",
        "plt.xlabel('Epoch')\n",
        "plt.ylabel('Accuracy')\n",
        "plt.legend()\n",
        "plt.show()"
      ],
      "metadata": {
        "colab": {
          "base_uri": "https://localhost:8080/",
          "height": 472
        },
        "id": "NjPhzgmTuLBJ",
        "outputId": "0060bc21-b86c-4933-918d-633fd40eb5e9"
      },
      "execution_count": 18,
      "outputs": [
        {
          "output_type": "display_data",
          "data": {
            "text/plain": [
              "<Figure size 640x480 with 1 Axes>"
            ],
            "image/png": "[encoded data removed]"
          },
          "metadata": {}
        }
      ]
    },
    {
      "cell_type": "code",
      "source": [],
      "metadata": {
        "id": "98DZruBJMOPh"
      },
      "execution_count": null,
      "outputs": []
    }
  ]
}